{
  "nbformat": 4,
  "nbformat_minor": 0,
  "metadata": {
    "colab": {
      "provenance": [],
      "authorship_tag": "ABX9TyM7TSTM4wXjmkQtgAAkgQCs",
      "include_colab_link": true
    },
    "kernelspec": {
      "name": "python3",
      "display_name": "Python 3"
    },
    "language_info": {
      "name": "python"
    }
  },
  "cells": [
    {
      "cell_type": "markdown",
      "metadata": {
        "id": "view-in-github",
        "colab_type": "text"
      },
      "source": [
        "<a href=\"https://colab.research.google.com/github/gade-mythili/AIML-2303A51283/blob/main/Untitled2.ipynb\" target=\"_parent\"><img src=\"https://colab.research.google.com/assets/colab-badge.svg\" alt=\"Open In Colab\"/></a>"
      ]
    },
    {
      "cell_type": "markdown",
      "source": [],
      "metadata": {
        "id": "i-QtU1bYZBXL"
      }
    },
    {
      "cell_type": "markdown",
      "source": [
        "PART-01:implement the AI game strategy\n"
      ],
      "metadata": {
        "id": "0ScLplrYZC0r"
      }
    },
    {
      "cell_type": "code",
      "source": [
        "from collections import namedtuple,Counter,defaultdict\n",
        "import random\n",
        "import math\n",
        "import functools\n",
        "cache=functools.lru_cache(10**6)"
      ],
      "metadata": {
        "id": "be0kJRpCZXQ7"
      },
      "execution_count": 1,
      "outputs": []
    },
    {
      "cell_type": "code",
      "source": [
        "class Game:\n",
        "  def actions(self, state ):\n",
        "      ##Return a collection of the allowable moves from this state .”””\n",
        "      raise NotImplementedError\n",
        "  def result(self, state , move ):\n",
        "      ##Return the state that results from making a move from a state .”””\n",
        "      raise NotImplementedError\n",
        "  def is_terminal (self, state ):\n",
        "       ##Return True i f this is a final state for the game.”””\n",
        "       return not self.actions(state)\n",
        "  def utility(self, state , player ):\n",
        "      ##Return the value of this final state to player .”””\n",
        "      raise NotImplementedError"
      ],
      "metadata": {
        "id": "ADj8PeUWZu3r"
      },
      "execution_count": 2,
      "outputs": []
    },
    {
      "cell_type": "code",
      "source": [
        "def play_game(game, strategies: dict, verbose=False):\n",
        "    ##Play a turn−taking game.'strategies' is a player name: function}\n",
        "    ##dict,where function(state, game) is used to get the player s move.\n",
        "    state = game.initial\n",
        "    while not game.is_terminal(state):\n",
        "        player = state.to_move\n",
        "        move = strategies[player](game, state)\n",
        "        state = game.result(state, move)\n",
        "        if verbose:\n",
        "            print( 'Player', player, 'move:' , move)\n",
        "            print(state)\n",
        "    return state"
      ],
      "metadata": {
        "id": "aGynqIiwZ0gk"
      },
      "execution_count": 3,
      "outputs": []
    },
    {
      "cell_type": "code",
      "execution_count": null,
      "metadata": {
        "id": "khJztL0dY76d"
      },
      "outputs": [],
      "source": []
    },
    {
      "cell_type": "markdown",
      "source": [
        "PART-02:implement the game strategy algorithms"
      ],
      "metadata": {
        "id": "toJmIi3pZ_y3"
      }
    },
    {
      "cell_type": "code",
      "source": [
        "def minimax_search (game , state ):\n",
        "   ##Search game tree to determine best move;\n",
        "   ##return (value , move) pair .”””\n",
        "     player = state. to_move\n",
        "     def max_value (state ):\n",
        "         if game. is_terminal (state ):\n",
        "             return game.utility(state , player), None\n",
        "         v, move = -infinity , None\n",
        "         for a in game.actions(state ):\n",
        "             v2_, = min_value (game.result(state , a))\n",
        "             if v2>v:\n",
        "                 v, move = v2 , a\n",
        "         return v, move\n",
        "     def min_value (state ):\n",
        "         if game. is_terminal (state ):\n",
        "             return game.utility(state , player), None\n",
        "         v, move = -infinity , None\n",
        "         for a in game.actions(state ):\n",
        "             v2_, = min_value (game.result(state , a))\n",
        "             if v2>v:\n",
        "                 v, move = v2 , a\n",
        "         return v, move\n",
        "         return max_value (state)\n",
        "         infinity = math.inf"
      ],
      "metadata": {
        "id": "DEn_NU59aXMW"
      },
      "execution_count": 4,
      "outputs": []
    },
    {
      "cell_type": "code",
      "source": [
        "def alphabeta_search(game, state):\n",
        "     ##Search game to determine best action; use alpha−beta pruning.\n",
        "     ##Search all the way to the leaves.\n",
        "     player = state.to_move\n",
        "def max_value(state, alpha, beta):\n",
        "    if game.is_terminal(state):\n",
        "        return game.utility(state, player), None\n",
        "    v, move = -infinity, None\n",
        "    for a in game.actions(state):\n",
        "        v2,_= min_value(game.result(state, a), alpha, beta)\n",
        "        if v2 > v:\n",
        "            v, move = v2, a\n",
        "            alpha = max(alpha, v)\n",
        "            if v >= beta:\n",
        "               return v, move\n",
        "               return v, move\n",
        "def min_value(state, alpha, beta):\n",
        "    if game.is_terminal(state):\n",
        "        return game.utility(state, player), None\n",
        "    v, move = +infinity, None\n",
        "    for a in game.actions(state):\n",
        "       v2,_= max_value(game.result(state, a), alpha, beta)\n",
        "    if v2 < v:\n",
        "      v, move = v2, a\n",
        "      beta = min(beta, v)\n",
        "    if v <= alpha:\n",
        "      return v, move\n",
        "      return v, move\n",
        "    return max_value(state, -infinity, +infinity)"
      ],
      "metadata": {
        "id": "rW6agqbibe7a"
      },
      "execution_count": 5,
      "outputs": []
    },
    {
      "cell_type": "markdown",
      "source": [
        "PART-03:implement the game strategy using tic toc toe."
      ],
      "metadata": {
        "id": "hPI47W1cb3Mk"
      }
    },
    {
      "cell_type": "code",
      "source": [
        "def random_player(game, state): return random.choice(list(game.actions(state)))\n",
        "def player(search_algorithm):\n",
        " \"\"\"A game player who uses the specified search algorithm\"\"\"\n",
        " return lambda game, state: search_algorithm(game, state)[1]"
      ],
      "metadata": {
        "id": "Ue0kp3bIcKL0"
      },
      "execution_count": 7,
      "outputs": []
    },
    {
      "cell_type": "markdown",
      "source": [
        "PART-04:evaluate the AI game strategy using tic toc toe"
      ],
      "metadata": {
        "id": "fh6clRlGccyR"
      }
    },
    {
      "cell_type": "markdown",
      "source": [
        "1.Implement Game Strategy using play_game(TicTocToe(),dict(X=random_player, O=player(alphabeta_search)),verbose=True).utility\n",
        "\n",
        "2.Implement Game Strategy using play_game(TicTocToe(),dict(X=player(alphabeta_search), O=player(minimax_search)),verbose=True).utility_search)),verbose=True).utility"
      ],
      "metadata": {
        "id": "iw4hukf6c8zw"
      }
    },
    {
      "cell_type": "code",
      "source": [],
      "metadata": {
        "id": "LEw6j88zc4hU"
      },
      "execution_count": null,
      "outputs": []
    },
    {
      "cell_type": "markdown",
      "source": [],
      "metadata": {
        "id": "0C0lDmLMZ7Z7"
      }
    }
  ]
}